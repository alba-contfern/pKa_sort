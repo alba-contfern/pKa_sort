{
 "cells": [
  {
   "cell_type": "code",
   "execution_count": 3,
   "metadata": {},
   "outputs": [],
   "source": [
    "from rdkit import Chem\n",
    "from rdkit.Chem.Draw import IPythonConsole"
   ]
  },
  {
   "cell_type": "code",
   "execution_count": 4,
   "metadata": {},
   "outputs": [
    {
     "name": "stdout",
     "output_type": "stream",
     "text": [
      "['a', 'b']\n"
     ]
    }
   ],
   "source": [
    "\"\"\" number_molecule = input(\"How many molecules:\")\n",
    "\n",
    "if int(number_molecule) == ValueError:\n",
    "    print(\"Invalide syntax, please enter an integer number\")\n",
    "    number_molecule = input(\"How many molecules:\") \n",
    "\n",
    "i=0\n",
    "list_of_molecule = []\n",
    "while i < int(number_molecule):\n",
    "    name_i=input(\"Molecule name:\")\n",
    "    if name_i == #prendre le smile en cas d'erreur\n",
    "        name_i = input(\"Please input a valid name\")\n",
    "    list_of_molecule.append(name_i)\n",
    "    i=i+1\n",
    "print(list_of_molecule)\n",
    "\n",
    "\n",
    "#get the molecule name and put it in a list\n",
    "i=0\n",
    "list_of_molecule = []\n",
    "while i < int(number_molecule):\n",
    "    \n",
    "    name_i=input(\"Molecule name:\")\n",
    "    list_of_molecule.append(name_i)\n",
    "    i=i+1\n",
    "print(list_of_molecule)\n",
    "\n",
    " \"\"\"\n"
   ]
  },
  {
   "cell_type": "code",
   "execution_count": 9,
   "metadata": {},
   "outputs": [
    {
     "name": "stdout",
     "output_type": "stream",
     "text": [
      "Invalid syntax, please enter an integer number\n",
      "Invalid syntax, please enter an integer number\n",
      "Invalid syntax, please enter an integer number\n",
      "Number of molecules: 4\n"
     ]
    }
   ],
   "source": [
    "\n",
    "#get the number of molecule in int form\n",
    "while True:\n",
    "    number_molecule = input(\"How many molecules: \")\n",
    "    try:\n",
    "        number_molecule = int(number_molecule)\n",
    "        break  \n",
    "    except ValueError:\n",
    "        print(\"Invalid syntax, please enter an integer number\")\n",
    "\n"
   ]
  },
  {
   "cell_type": "code",
   "execution_count": 5,
   "metadata": {},
   "outputs": [
    {
     "ename": "AttributeError",
     "evalue": "module 'rdkit.Chem' has no attribute 'MolFromName'",
     "output_type": "error",
     "traceback": [
      "\u001b[1;31m---------------------------------------------------------------------------\u001b[0m",
      "\u001b[1;31mAttributeError\u001b[0m                            Traceback (most recent call last)",
      "Cell \u001b[1;32mIn[5], line 8\u001b[0m\n\u001b[0;32m      6\u001b[0m name_i\u001b[38;5;241m=\u001b[39m\u001b[38;5;28minput\u001b[39m(\u001b[38;5;124mf\u001b[39m\u001b[38;5;124m\"\u001b[39m\u001b[38;5;124mMolecule name \u001b[39m\u001b[38;5;132;01m{\u001b[39;00mi\u001b[38;5;241m+\u001b[39m\u001b[38;5;241m1\u001b[39m\u001b[38;5;132;01m}\u001b[39;00m\u001b[38;5;124m:\u001b[39m\u001b[38;5;124m\"\u001b[39m)\n\u001b[0;32m      7\u001b[0m \u001b[38;5;28;01mtry\u001b[39;00m:\n\u001b[1;32m----> 8\u001b[0m     mol \u001b[38;5;241m=\u001b[39m \u001b[43mChem\u001b[49m\u001b[38;5;241;43m.\u001b[39;49m\u001b[43mMolFromName\u001b[49m(name_i)\n\u001b[0;32m      9\u001b[0m     \u001b[38;5;28;01mif\u001b[39;00m mol \u001b[38;5;129;01mis\u001b[39;00m \u001b[38;5;28;01mNone\u001b[39;00m:\n\u001b[0;32m     10\u001b[0m         \u001b[38;5;28;01mraise\u001b[39;00m \u001b[38;5;167;01mValueError\u001b[39;00m(\u001b[38;5;124m\"\u001b[39m\u001b[38;5;124mUnable to generate the molecular formula.\u001b[39m\u001b[38;5;124m\"\u001b[39m)\n",
      "\u001b[1;31mAttributeError\u001b[0m: module 'rdkit.Chem' has no attribute 'MolFromName'"
     ]
    }
   ],
   "source": [
    "\n",
    "#get the molecule name and put it in a list\n",
    "list_of_molecule = []\n",
    "number_molecule=2\n",
    "for i in range(number_molecule):\n",
    "    while True:\n",
    "        name_i=input(f\"Molecule name {i+1}:\")\n",
    "        try:\n",
    "            mol = Chem.MolFromName(name_i)\n",
    "            if mol is None:\n",
    "                raise ValueError(\"Unable to generate the molecular formula.\")\n",
    "            list_of_molecule.append((name_i))\n",
    "            break\n",
    "        except ValueError:\n",
    "            print(\"Value error, please try again with the correct name\")\n",
    "print(list_of_molecule)\n",
    "\n"
   ]
  },
  {
   "cell_type": "code",
   "execution_count": null,
   "metadata": {},
   "outputs": [],
   "source": []
  }
 ],
 "metadata": {
  "kernelspec": {
   "display_name": "ppchem",
   "language": "python",
   "name": "python3"
  },
  "language_info": {
   "codemirror_mode": {
    "name": "ipython",
    "version": 3
   },
   "file_extension": ".py",
   "mimetype": "text/x-python",
   "name": "python",
   "nbconvert_exporter": "python",
   "pygments_lexer": "ipython3",
   "version": "3.10.13"
  }
 },
 "nbformat": 4,
 "nbformat_minor": 2
}
