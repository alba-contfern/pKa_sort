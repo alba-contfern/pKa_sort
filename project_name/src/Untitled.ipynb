{
 "cells": [
  {
   "cell_type": "code",
   "execution_count": 31,
   "id": "33631e79-5bf4-4f0c-ad4a-26269d489b57",
   "metadata": {},
   "outputs": [
    {
     "name": "stdout",
     "output_type": "stream",
     "text": [
      "[Compound(5793)]\n",
      "<rdkit.Chem.rdchem.Mol object at 0x000001FE4E0CF450>\n"
     ]
    }
   ],
   "source": [
    "from rdkit import Chem\n",
    "import pubchempy as pcp\n",
    "from pubchempy import get_compounds\n",
    "\n",
    "from rdkit.Chem.Draw import IPythonConsole\n",
    "IPythonConsole.ipython_useSVG=True\n",
    "\n",
    "def get_test(compound):\n",
    "    results = pcp.get_compounds(compound, 'name')\n",
    "    print (results)\n",
    "    for compound in results:\n",
    "        smiles= compound.isomeric_smiles\n",
    "        mol=Chem.MolFromSmiles(smiles)\n",
    "        return mol\n",
    "\n",
    "        \n",
    "       \n",
    "\n",
    "print (get_test('glucose'))"
   ]
  },
  {
   "cell_type": "code",
   "execution_count": 16,
   "id": "75ae35ed-b9c7-4534-aaae-b504903de1b2",
   "metadata": {},
   "outputs": [
    {
     "name": "stdout",
     "output_type": "stream",
     "text": [
      "[Compound(2244)]\n",
      "<class 'list'>\n",
      "CC(=O)OC1=CC=CC=C1C(=O)O\n"
     ]
    }
   ],
   "source": [
    "def get_test(compound):\n",
    "    results = pcp.get_compounds(compound, 'name')\n",
    "    print (results)\n",
    "    print (type(results))\n",
    "    for compound in results:\n",
    "        return (compound.isomeric_smiles)\n",
    "molecule=Chem.MolFromSmiles(smiles)\n",
    "print (get_test('glucose'))"
   ]
  },
  {
   "cell_type": "code",
   "execution_count": null,
   "id": "83883846-e2f1-42f0-8059-4d85df7f0723",
   "metadata": {},
   "outputs": [],
   "source": []
  }
 ],
 "metadata": {
  "kernelspec": {
   "display_name": "Python 3 (ipykernel)",
   "language": "python",
   "name": "python3"
  },
  "language_info": {
   "codemirror_mode": {
    "name": "ipython",
    "version": 3
   },
   "file_extension": ".py",
   "mimetype": "text/x-python",
   "name": "python",
   "nbconvert_exporter": "python",
   "pygments_lexer": "ipython3",
   "version": "3.10.13"
  }
 },
 "nbformat": 4,
 "nbformat_minor": 5
}
