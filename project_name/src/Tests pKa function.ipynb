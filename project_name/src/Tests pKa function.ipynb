{
 "cells": [
  {
   "cell_type": "code",
   "execution_count": 20,
   "id": "1deb2996-fdc3-4c3b-b6b7-6fd5eb386c08",
   "metadata": {},
   "outputs": [],
   "source": [
    "import package_code as pk\n",
    "import pytest"
   ]
  },
  {
   "cell_type": "code",
   "execution_count": 30,
   "id": "a1727ac2-f975-44c0-ab19-7adcea7c9eeb",
   "metadata": {},
   "outputs": [],
   "source": [
    "def pka_test_function():\n",
    "    assert pk.pka_increasing(['Benzoic acid']) == [('4.20', 'Benzoic acid')], \"Function is not returning the correct value.\"\n",
    "    assert pk.pka_increasing(['Hydrofluoric acid']) == [('3.19', 'Hydrofluoric acid')], \"Function is not returning the correct value.\"\n",
    "    assert pk.pka_increasing(['Benzoic acid','Hydrofluoric acid']) == [('3.19', 'Hydrofluoric acid'),('4.20', 'Benzoic acid')], \"Function is not returning the correct value.\"\n",
    "    assert pk.pka_increasing(['Benzoic acid','Hydrofluoric acid','Malonic acid']) == [('2.85', 'Malonic acid'),('3.19', 'Hydrofluoric acid'),('4.20', 'Benzoic acid')], \"Function is not returning the correct value.\"\n",
    "pka_test_function()"
   ]
  },
  {
   "cell_type": "code",
   "execution_count": 29,
   "id": "44c22cbf-8907-4e3a-bd9d-6af009f862fc",
   "metadata": {},
   "outputs": [
    {
     "name": "stdout",
     "output_type": "stream",
     "text": [
      "test print [('2.85', 'Malonic acid'), ('3.19', 'Hydrofluoric acid'), ('4.20', 'Benzoic acid')]\n"
     ]
    }
   ],
   "source": [
    "pk.pka_increasing([\"Benzoic acid\"])\n",
    "print(f\"test print {pk.pka_increasing(['Benzoic acid','Hydrofluoric acid','Malonic acid'])}\")"
   ]
  },
  {
   "cell_type": "code",
   "execution_count": null,
   "id": "aba40ab9-8035-46f8-b8a6-242e64b01f47",
   "metadata": {},
   "outputs": [],
   "source": []
  }
 ],
 "metadata": {
  "kernelspec": {
   "display_name": "Python 3 (ipykernel)",
   "language": "python",
   "name": "python3"
  },
  "language_info": {
   "codemirror_mode": {
    "name": "ipython",
    "version": 3
   },
   "file_extension": ".py",
   "mimetype": "text/x-python",
   "name": "python",
   "nbconvert_exporter": "python",
   "pygments_lexer": "ipython3",
   "version": "3.10.13"
  }
 },
 "nbformat": 4,
 "nbformat_minor": 5
}
