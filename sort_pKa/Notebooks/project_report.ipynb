{
 "cells": [
  {
   "attachments": {},
   "cell_type": "markdown",
   "id": "ae987636-a2e8-4273-a394-2ac46bd65750",
   "metadata": {},
   "source": [
    "### Functionnality\n",
    "<p>The package is composed of five different functions, with the one called 'main' executing the two main functionnalities of the package. Namely, generating the sorted list and the sorted images. It is also possible to call the functions individually, either to only generate the images or only obtain the sorted compound list.</p>\n",
    "\n",
    "\n",
    "### Results\n",
    "<p>The package output is a sorted list of sets, each composed of the name and the pKa of the molecule. \n",
    "We managed to modify the second part of the function so that it highlights the acid hydroxyl group when it returns the sorted images.\n",
    "Here is an example of the output of the package:</p>\n",
    "\n",
    "![illustration.JPG](sort_pKa/documents/illustration.JPG)\n",
    "\n",
    "### Limitations:\n",
    "<p>This program is limited to the information found on PubChem. For example, since in the page for 'Water' doesn't explicitely contain a pKa page embedded in the HTML, it will give an error. Furthermore, the main function requires a lot of CPU. As a result, when more than three molecules are input to compare, it takes a long time to run and get the result.\n",
    "With more time, it would've been interesting to modify the code in order to not only get the generated image, but also highlight all of the acidic groups of the molecule, instead of only the hydroxyls. </p>\n",
    "\n",
    "### Challenges faced\n",
    "<p>We lost a lot of time (several days) trying to program ourselves the function that finds the pKas of the compounds by parsing the HTML code of the PubChem pages. However, even with the help of the assistants we couldn't manage, as the information was too deeply embedded and not accessible through beautiful soup. Instead, we used a function that we found from another programmer that used Python XML as a parser, and that worked well. We were also unable to generate all of the molecule images at once, and the object wasn't subscriptable to a list so we were having trouble with that. Finally we found found the solution with an rdkit function. While we coded the interface we also faced trouble to generate the images on it.  </p>"
   ]
  }
 ],
 "metadata": {
  "kernelspec": {
   "display_name": "Python 3 (ipykernel)",
   "language": "python",
   "name": "python3"
  },
  "language_info": {
   "codemirror_mode": {
    "name": "ipython",
    "version": 3
   },
   "file_extension": ".py",
   "mimetype": "text/x-python",
   "name": "python",
   "nbconvert_exporter": "python",
   "pygments_lexer": "ipython3",
   "version": "3.10.13"
  }
 },
 "nbformat": 4,
 "nbformat_minor": 5
}
