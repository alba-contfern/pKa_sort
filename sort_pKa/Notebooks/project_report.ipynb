{
 "cells": [
  {
   "cell_type": "markdown",
   "id": "fc7e19ac-f7fd-43d4-928d-ae54309e2467",
   "metadata": {},
   "source": [
    "Functionnality:\n",
    "\n",
    "\n",
    "\n",
    "Results\n",
    "\n",
    "\n",
    "\n",
    "Limitations:\n",
    "This program is limited to the information found on PubChem. For example, since in the page for 'Water' doesn't explicitely contain a pKa page embedded in the HTML, it will give an error. Furthermore, the main function takes a lot of CPU. As a reuslt, when more than three molecules are input to compare, it takes a long time to run and get the result.\n",
    "With more time, it would've been interesting to modify the code in order to not only get the generated image, but also highlight the acidic group of the molecule. "
   ]
  },
  {
   "cell_type": "code",
   "execution_count": null,
   "id": "101b3b61-615f-4c06-99b7-7c5415d6c537",
   "metadata": {},
   "outputs": [],
   "source": []
  }
 ],
 "metadata": {
  "kernelspec": {
   "display_name": "Python 3 (ipykernel)",
   "language": "python",
   "name": "python3"
  },
  "language_info": {
   "codemirror_mode": {
    "name": "ipython",
    "version": 3
   },
   "file_extension": ".py",
   "mimetype": "text/x-python",
   "name": "python",
   "nbconvert_exporter": "python",
   "pygments_lexer": "ipython3",
   "version": "3.10.13"
  }
 },
 "nbformat": 4,
 "nbformat_minor": 5
}
