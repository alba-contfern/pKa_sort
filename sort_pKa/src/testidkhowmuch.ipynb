{
 "cells": [
  {
   "cell_type": "code",
   "execution_count": 5,
   "metadata": {},
   "outputs": [],
   "source": []
  },
  {
   "cell_type": "code",
   "execution_count": 1,
   "metadata": {},
   "outputs": [
    {
     "ename": "TypeError",
     "evalue": "No registered converter was able to produce a C++ rvalue of type class std::basic_string<wchar_t,struct std::char_traits<wchar_t>,class std::allocator<wchar_t> > from this Python object of type Mol",
     "output_type": "error",
     "traceback": [
      "\u001b[1;31m---------------------------------------------------------------------------\u001b[0m",
      "\u001b[1;31mTypeError\u001b[0m                                 Traceback (most recent call last)",
      "Cell \u001b[1;32mIn[1], line 32\u001b[0m\n\u001b[0;32m     29\u001b[0m         p\u001b[38;5;241m.\u001b[39mzoomTo()\n\u001b[0;32m     30\u001b[0m         \u001b[38;5;28;01mreturn\u001b[39;00m p\u001b[38;5;241m.\u001b[39mshow()\n\u001b[1;32m---> 32\u001b[0m \u001b[38;5;28mprint\u001b[39m(\u001b[43mmolecule_3d\u001b[49m\u001b[43m(\u001b[49m\u001b[38;5;124;43m\"\u001b[39;49m\u001b[38;5;124;43maspirin\u001b[39;49m\u001b[38;5;124;43m\"\u001b[39;49m\u001b[43m)\u001b[49m)\n",
      "Cell \u001b[1;32mIn[1], line 17\u001b[0m, in \u001b[0;36mmolecule_3d\u001b[1;34m(molecule)\u001b[0m\n\u001b[0;32m     15\u001b[0m \u001b[38;5;28;01mdef\u001b[39;00m \u001b[38;5;21mmolecule_3d\u001b[39m(molecule):\n\u001b[0;32m     16\u001b[0m     molecule_smiles\u001b[38;5;241m=\u001b[39mget_test(molecule)\n\u001b[1;32m---> 17\u001b[0m     molecular_formula \u001b[38;5;241m=\u001b[39m \u001b[43mChem\u001b[49m\u001b[38;5;241;43m.\u001b[39;49m\u001b[43mMolFromSmiles\u001b[49m\u001b[43m(\u001b[49m\u001b[43mmolecule_smiles\u001b[49m\u001b[43m)\u001b[49m\n\u001b[0;32m     18\u001b[0m     molecule_3d_3d \u001b[38;5;241m=\u001b[39m Chem\u001b[38;5;241m.\u001b[39mAddHs(molecular_formula)\n\u001b[0;32m     19\u001b[0m     AllChem\u001b[38;5;241m.\u001b[39mEmbedMolecule(molecule_3d_3d)\n",
      "\u001b[1;31mTypeError\u001b[0m: No registered converter was able to produce a C++ rvalue of type class std::basic_string<wchar_t,struct std::char_traits<wchar_t>,class std::allocator<wchar_t> > from this Python object of type Mol"
     ]
    }
   ],
   "source": [
    "import py3Dmol\n",
    "from rdkit import Chem\n",
    "from rdkit.Chem.Draw import IPythonConsole\n",
    "IPythonConsole.ipython_useSVG=True\n",
    "from rdkit.Chem import AllChem\n",
    "import pubchempy as pcp\n",
    "\n",
    "def get_test(compound):\n",
    "    results = pcp.get_compounds(compound, 'name')\n",
    "    for compound in results:\n",
    "        smiles= compound.isomeric_smiles\n",
    "        mol=Chem.MolFromSmiles(smiles)\n",
    "        return mol\n",
    "\n",
    "def molecule_3d(molecule):\n",
    "    molecule_smiles=get_test(molecule)\n",
    "    molecular_formula = Chem.MolFromSmiles(molecule_smiles)\n",
    "    molecule_3d_3d = Chem.AddHs(molecular_formula)\n",
    "    AllChem.EmbedMolecule(molecule_3d_3d)\n",
    "\n",
    "def drawit(m,p=None,confId=-1):\n",
    "        mb = Chem.MolToMolBlock(m,confId=confId)\n",
    "        if p is None:\n",
    "            p = py3Dmol.view(width=400,height=400)\n",
    "        p.removeAllModels()\n",
    "        p.addModel(mb,'sdf')\n",
    "        p.setStyle({'stick':{}})\n",
    "        p.setBackgroundColor('0xeeeeee')\n",
    "        p.zoomTo()\n",
    "        return p.show()\n",
    "\n",
    "print(molecule_3d(\"aspirin\"))"
   ]
  },
  {
   "cell_type": "code",
   "execution_count": 3,
   "metadata": {},
   "outputs": [
    {
     "ename": "NameError",
     "evalue": "name 'molecule_3d' is not defined",
     "output_type": "error",
     "traceback": [
      "\u001b[1;31m---------------------------------------------------------------------------\u001b[0m",
      "\u001b[1;31mNameError\u001b[0m                                 Traceback (most recent call last)",
      "Cell \u001b[1;32mIn[3], line 3\u001b[0m\n\u001b[0;32m      1\u001b[0m \u001b[38;5;28;01mimport\u001b[39;00m \u001b[38;5;21;01mPySimpleGUI\u001b[39;00m \u001b[38;5;28;01mas\u001b[39;00m \u001b[38;5;21;01msg\u001b[39;00m\n\u001b[1;32m----> 3\u001b[0m aspirin_3d \u001b[38;5;241m=\u001b[39m \u001b[43mmolecule_3d\u001b[49m(\u001b[38;5;124m\"\u001b[39m\u001b[38;5;124maspirin\u001b[39m\u001b[38;5;124m\"\u001b[39m)\n\u001b[0;32m      5\u001b[0m \u001b[38;5;66;03m# All the stuff inside your window.\u001b[39;00m\n\u001b[0;32m      6\u001b[0m layout \u001b[38;5;241m=\u001b[39m [ [sg\u001b[38;5;241m.\u001b[39mText(\u001b[38;5;124m'\u001b[39m\u001b[38;5;124mName of the first molecule\u001b[39m\u001b[38;5;124m'\u001b[39m, size\u001b[38;5;241m=\u001b[39m(\u001b[38;5;241m30\u001b[39m,\u001b[38;5;241m1\u001b[39m)), sg\u001b[38;5;241m.\u001b[39mInputText()],\n\u001b[0;32m      7\u001b[0m             [sg\u001b[38;5;241m.\u001b[39mButton(\u001b[38;5;124m'\u001b[39m\u001b[38;5;124mOk\u001b[39m\u001b[38;5;124m'\u001b[39m), sg\u001b[38;5;241m.\u001b[39mButton(\u001b[38;5;124m'\u001b[39m\u001b[38;5;124mCancel\u001b[39m\u001b[38;5;124m'\u001b[39m)] , \n\u001b[0;32m      8\u001b[0m             [sg\u001b[38;5;241m.\u001b[39mText(\u001b[38;5;124m'\u001b[39m\u001b[38;5;124mName of the second molecule\u001b[39m\u001b[38;5;124m'\u001b[39m), sg\u001b[38;5;241m.\u001b[39mInputText()], [sg\u001b[38;5;241m.\u001b[39mImage(drawit(aspirin_3d), size\u001b[38;5;241m=\u001b[39m\u001b[38;5;241m300\u001b[39m)],\n\u001b[0;32m      9\u001b[0m             [sg\u001b[38;5;241m.\u001b[39mButton(\u001b[38;5;124m'\u001b[39m\u001b[38;5;124mOk\u001b[39m\u001b[38;5;124m'\u001b[39m), sg\u001b[38;5;241m.\u001b[39mButton(\u001b[38;5;124m'\u001b[39m\u001b[38;5;124mCancel\u001b[39m\u001b[38;5;124m'\u001b[39m)] ]\n",
      "\u001b[1;31mNameError\u001b[0m: name 'molecule_3d' is not defined"
     ]
    }
   ],
   "source": [
    "import PySimpleGUI as sg\n",
    "\n",
    "aspirin_3d = molecule_3d(\"aspirin\")\n",
    "\n",
    "# All the stuff inside your window.\n",
    "layout = [ [sg.Text('Name of the first molecule', size=(30,1)), sg.InputText()],\n",
    "            [sg.Button('Ok'), sg.Button('Cancel')] , \n",
    "            [sg.Text('Name of the second molecule'), sg.InputText()], [sg.Image(drawit(aspirin_3d), size=300)],\n",
    "            [sg.Button('Ok'), sg.Button('Cancel')] ]\n",
    "\n",
    "# Create the Window\n",
    "window = sg.Window(\"My Window\", layout, size=(800, 600))\n",
    "\n",
    "# Event Loop to process \"events\" and get the \"values\" of the inputs\n",
    "while True:\n",
    "    event, values = window.read()\n",
    "    if event == sg.WIN_CLOSED or event == 'Cancel': # if user closes window or clicks cancel\n",
    "        break\n",
    "    print('You entered ', values[0])\n",
    "\n",
    "window.close()"
   ]
  },
  {
   "cell_type": "code",
   "execution_count": null,
   "metadata": {},
   "outputs": [],
   "source": []
  }
 ],
 "metadata": {
  "kernelspec": {
   "display_name": "ppchem",
   "language": "python",
   "name": "python3"
  },
  "language_info": {
   "codemirror_mode": {
    "name": "ipython",
    "version": 3
   },
   "file_extension": ".py",
   "mimetype": "text/x-python",
   "name": "python",
   "nbconvert_exporter": "python",
   "pygments_lexer": "ipython3",
   "version": "3.10.13"
  }
 },
 "nbformat": 4,
 "nbformat_minor": 2
}
