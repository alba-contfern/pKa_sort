{
 "cells": [
  {
   "cell_type": "code",
   "execution_count": 41,
   "id": "33631e79-5bf4-4f0c-ad4a-26269d489b57",
   "metadata": {},
   "outputs": [
    {
     "data": {
      "image/svg+xml": [
       "<svg xmlns=\"http://www.w3.org/2000/svg\" xmlns:rdkit=\"http://www.rdkit.org/xml\" xmlns:xlink=\"http://www.w3.org/1999/xlink\" version=\"1.1\" baseProfile=\"full\" xml:space=\"preserve\" width=\"600px\" height=\"200px\" viewBox=\"0 0 600 200\">\n",
       "<!-- END OF HEADER -->\n",
       "<rect style=\"opacity:1.0;fill:#FFFFFF;stroke:none\" width=\"600.0\" height=\"200.0\" x=\"0.0\" y=\"0.0\"> </rect>\n",
       "<path class=\"bond-0 atom-1 atom-0\" d=\"M 127.6,102.9 L 127.7,102.3\" style=\"fill:none;fill-rule:evenodd;stroke:#000000;stroke-width:1.0px;stroke-linecap:butt;stroke-linejoin:miter;stroke-opacity:1\"/>\n",
       "<path class=\"bond-0 atom-1 atom-0\" d=\"M 131.0,103.4 L 131.1,102.3\" style=\"fill:none;fill-rule:evenodd;stroke:#000000;stroke-width:1.0px;stroke-linecap:butt;stroke-linejoin:miter;stroke-opacity:1\"/>\n",
       "<path class=\"bond-0 atom-1 atom-0\" d=\"M 134.3,103.9 L 134.4,102.3\" style=\"fill:none;fill-rule:evenodd;stroke:#000000;stroke-width:1.0px;stroke-linecap:butt;stroke-linejoin:miter;stroke-opacity:1\"/>\n",
       "<path class=\"bond-0 atom-1 atom-0\" d=\"M 137.6,104.5 L 137.8,102.2\" style=\"fill:none;fill-rule:evenodd;stroke:#000000;stroke-width:1.0px;stroke-linecap:butt;stroke-linejoin:miter;stroke-opacity:1\"/>\n",
       "<path class=\"bond-0 atom-1 atom-0\" d=\"M 141.0,105.0 L 141.2,102.2\" style=\"fill:none;fill-rule:evenodd;stroke:#000000;stroke-width:1.0px;stroke-linecap:butt;stroke-linejoin:miter;stroke-opacity:1\"/>\n",
       "<path class=\"bond-0 atom-1 atom-0\" d=\"M 144.3,105.5 L 144.5,102.2\" style=\"fill:none;fill-rule:evenodd;stroke:#000000;stroke-width:1.0px;stroke-linecap:butt;stroke-linejoin:miter;stroke-opacity:1\"/>\n",
       "<path class=\"bond-0 atom-1 atom-0\" d=\"M 147.6,106.0 L 147.9,102.1\" style=\"fill:none;fill-rule:evenodd;stroke:#000000;stroke-width:1.0px;stroke-linecap:butt;stroke-linejoin:miter;stroke-opacity:1\"/>\n",
       "<path class=\"bond-0 atom-1 atom-0\" d=\"M 150.9,106.6 L 151.3,102.1\" style=\"fill:none;fill-rule:evenodd;stroke:#000000;stroke-width:1.0px;stroke-linecap:butt;stroke-linejoin:miter;stroke-opacity:1\"/>\n",
       "<path class=\"bond-0 atom-1 atom-0\" d=\"M 154.3,107.1 L 154.6,102.1\" style=\"fill:none;fill-rule:evenodd;stroke:#000000;stroke-width:1.0px;stroke-linecap:butt;stroke-linejoin:miter;stroke-opacity:1\"/>\n",
       "<path class=\"bond-1 atom-1 atom-2\" d=\"M 124.3,102.4 L 105.4,130.2\" style=\"fill:none;fill-rule:evenodd;stroke:#000000;stroke-width:2.0px;stroke-linecap:butt;stroke-linejoin:miter;stroke-opacity:1\"/>\n",
       "<path class=\"bond-2 atom-2 atom-3\" d=\"M 105.4,130.2 L 71.9,127.7\" style=\"fill:none;fill-rule:evenodd;stroke:#000000;stroke-width:2.0px;stroke-linecap:butt;stroke-linejoin:miter;stroke-opacity:1\"/>\n",
       "<path class=\"bond-3 atom-3 atom-4\" d=\"M 71.9,127.7 L 57.3,97.5\" style=\"fill:none;fill-rule:evenodd;stroke:#000000;stroke-width:2.0px;stroke-linecap:butt;stroke-linejoin:miter;stroke-opacity:1\"/>\n",
       "<path class=\"bond-4 atom-4 atom-5\" d=\"M 57.3,97.5 L 76.2,69.7\" style=\"fill:none;fill-rule:evenodd;stroke:#000000;stroke-width:2.0px;stroke-linecap:butt;stroke-linejoin:miter;stroke-opacity:1\"/>\n",
       "<path class=\"bond-5 atom-5 atom-6\" d=\"M 76.2,69.7 L 90.2,70.7\" style=\"fill:none;fill-rule:evenodd;stroke:#000000;stroke-width:2.0px;stroke-linecap:butt;stroke-linejoin:miter;stroke-opacity:1\"/>\n",
       "<path class=\"bond-5 atom-5 atom-6\" d=\"M 90.2,70.7 L 104.2,71.7\" style=\"fill:none;fill-rule:evenodd;stroke:#FF0000;stroke-width:2.0px;stroke-linecap:butt;stroke-linejoin:miter;stroke-opacity:1\"/>\n",
       "<path class=\"bond-6 atom-5 atom-7\" d=\"M 76.2,69.7 L 70.3,57.6\" style=\"fill:none;fill-rule:evenodd;stroke:#000000;stroke-width:2.0px;stroke-linecap:butt;stroke-linejoin:miter;stroke-opacity:1\"/>\n",
       "<path class=\"bond-6 atom-5 atom-7\" d=\"M 70.3,57.6 L 64.5,45.5\" style=\"fill:none;fill-rule:evenodd;stroke:#FF0000;stroke-width:2.0px;stroke-linecap:butt;stroke-linejoin:miter;stroke-opacity:1\"/>\n",
       "<path class=\"bond-7 atom-4 atom-8\" d=\"M 57.3,97.5 L 43.7,97.8 L 43.9,95.2 Z\" style=\"fill:#000000;fill-rule:evenodd;fill-opacity:1;stroke:#000000;stroke-width:0.5px;stroke-linecap:butt;stroke-linejoin:miter;stroke-opacity:1;\"/>\n",
       "<path class=\"bond-7 atom-4 atom-8\" d=\"M 43.7,97.8 L 30.5,93.0 L 30.2,98.0 Z\" style=\"fill:#FF0000;fill-rule:evenodd;fill-opacity:1;stroke:#FF0000;stroke-width:0.5px;stroke-linecap:butt;stroke-linejoin:miter;stroke-opacity:1;\"/>\n",
       "<path class=\"bond-7 atom-4 atom-8\" d=\"M 43.7,97.8 L 43.9,95.2 L 30.5,93.0 Z\" style=\"fill:#FF0000;fill-rule:evenodd;fill-opacity:1;stroke:#FF0000;stroke-width:0.5px;stroke-linecap:butt;stroke-linejoin:miter;stroke-opacity:1;\"/>\n",
       "<path class=\"bond-8 atom-3 atom-9\" d=\"M 70.2,130.9 L 69.6,130.5\" style=\"fill:none;fill-rule:evenodd;stroke:#000000;stroke-width:1.0px;stroke-linecap:butt;stroke-linejoin:miter;stroke-opacity:1\"/>\n",
       "<path class=\"bond-8 atom-3 atom-9\" d=\"M 68.5,134.1 L 67.3,133.3\" style=\"fill:none;fill-rule:evenodd;stroke:#000000;stroke-width:1.0px;stroke-linecap:butt;stroke-linejoin:miter;stroke-opacity:1\"/>\n",
       "<path class=\"bond-8 atom-3 atom-9\" d=\"M 66.8,137.2 L 65.0,136.0\" style=\"fill:none;fill-rule:evenodd;stroke:#000000;stroke-width:1.0px;stroke-linecap:butt;stroke-linejoin:miter;stroke-opacity:1\"/>\n",
       "<path class=\"bond-8 atom-3 atom-9\" d=\"M 65.1,140.4 L 62.7,138.8\" style=\"fill:none;fill-rule:evenodd;stroke:#FF0000;stroke-width:1.0px;stroke-linecap:butt;stroke-linejoin:miter;stroke-opacity:1\"/>\n",
       "<path class=\"bond-8 atom-3 atom-9\" d=\"M 63.3,143.6 L 60.4,141.6\" style=\"fill:none;fill-rule:evenodd;stroke:#FF0000;stroke-width:1.0px;stroke-linecap:butt;stroke-linejoin:miter;stroke-opacity:1\"/>\n",
       "<path class=\"bond-8 atom-3 atom-9\" d=\"M 61.6,146.7 L 58.0,144.3\" style=\"fill:none;fill-rule:evenodd;stroke:#FF0000;stroke-width:1.0px;stroke-linecap:butt;stroke-linejoin:miter;stroke-opacity:1\"/>\n",
       "<path class=\"bond-8 atom-3 atom-9\" d=\"M 59.9,149.9 L 55.7,147.1\" style=\"fill:none;fill-rule:evenodd;stroke:#FF0000;stroke-width:1.0px;stroke-linecap:butt;stroke-linejoin:miter;stroke-opacity:1\"/>\n",
       "<path class=\"bond-9 atom-2 atom-10\" d=\"M 105.4,130.2 L 112.2,141.2 L 109.9,142.3 Z\" style=\"fill:#000000;fill-rule:evenodd;fill-opacity:1;stroke:#000000;stroke-width:0.5px;stroke-linecap:butt;stroke-linejoin:miter;stroke-opacity:1;\"/>\n",
       "<path class=\"bond-9 atom-2 atom-10\" d=\"M 112.2,141.2 L 114.4,154.5 L 118.9,152.3 Z\" style=\"fill:#FF0000;fill-rule:evenodd;fill-opacity:1;stroke:#FF0000;stroke-width:0.5px;stroke-linecap:butt;stroke-linejoin:miter;stroke-opacity:1;\"/>\n",
       "<path class=\"bond-9 atom-2 atom-10\" d=\"M 112.2,141.2 L 109.9,142.3 L 114.4,154.5 Z\" style=\"fill:#FF0000;fill-rule:evenodd;fill-opacity:1;stroke:#FF0000;stroke-width:0.5px;stroke-linecap:butt;stroke-linejoin:miter;stroke-opacity:1;\"/>\n",
       "<path class=\"bond-10 atom-0 atom-11\" d=\"M 157.8,104.8 L 165.2,94.0\" style=\"fill:none;fill-rule:evenodd;stroke:#000000;stroke-width:2.0px;stroke-linecap:butt;stroke-linejoin:miter;stroke-opacity:1\"/>\n",
       "<path class=\"bond-10 atom-0 atom-11\" d=\"M 165.2,94.0 L 172.6,83.1\" style=\"fill:none;fill-rule:evenodd;stroke:#FF0000;stroke-width:2.0px;stroke-linecap:butt;stroke-linejoin:miter;stroke-opacity:1\"/>\n",
       "<path class=\"bond-11 atom-6 atom-1\" d=\"M 112.6,78.2 L 118.5,90.3\" style=\"fill:none;fill-rule:evenodd;stroke:#FF0000;stroke-width:2.0px;stroke-linecap:butt;stroke-linejoin:miter;stroke-opacity:1\"/>\n",
       "<path class=\"bond-11 atom-6 atom-1\" d=\"M 118.5,90.3 L 124.3,102.4\" style=\"fill:none;fill-rule:evenodd;stroke:#000000;stroke-width:2.0px;stroke-linecap:butt;stroke-linejoin:miter;stroke-opacity:1\"/>\n",
       "<path d=\"M 123.4,103.8 L 124.3,102.4 L 124.0,101.8\" style=\"fill:none;stroke:#000000;stroke-width:2.0px;stroke-linecap:butt;stroke-linejoin:miter;stroke-opacity:1;\"/>\n",
       "<path d=\"M 106.4,128.8 L 105.4,130.2 L 103.8,130.1\" style=\"fill:none;stroke:#000000;stroke-width:2.0px;stroke-linecap:butt;stroke-linejoin:miter;stroke-opacity:1;\"/>\n",
       "<path d=\"M 73.6,127.8 L 71.9,127.7 L 71.2,126.2\" style=\"fill:none;stroke:#000000;stroke-width:2.0px;stroke-linecap:butt;stroke-linejoin:miter;stroke-opacity:1;\"/>\n",
       "<path d=\"M 58.0,99.0 L 57.3,97.5 L 58.2,96.1\" style=\"fill:none;stroke:#000000;stroke-width:2.0px;stroke-linecap:butt;stroke-linejoin:miter;stroke-opacity:1;\"/>\n",
       "<path class=\"atom-6\" d=\"M 105.3 72.2 Q 105.3 69.9, 106.4 68.6 Q 107.6 67.3, 109.7 67.3 Q 111.8 67.3, 112.9 68.6 Q 114.0 69.9, 114.0 72.2 Q 114.0 74.5, 112.9 75.8 Q 111.8 77.1, 109.7 77.1 Q 107.6 77.1, 106.4 75.8 Q 105.3 74.5, 105.3 72.2 M 109.7 76.0 Q 111.1 76.0, 111.9 75.0 Q 112.7 74.1, 112.7 72.2 Q 112.7 70.3, 111.9 69.3 Q 111.1 68.4, 109.7 68.4 Q 108.2 68.4, 107.4 69.3 Q 106.6 70.3, 106.6 72.2 Q 106.6 74.1, 107.4 75.0 Q 108.2 76.0, 109.7 76.0 \" fill=\"#FF0000\"/>\n",
       "<path class=\"atom-7\" d=\"M 47.8 34.7 L 49.0 34.7 L 49.0 38.8 L 53.9 38.8 L 53.9 34.7 L 55.2 34.7 L 55.2 44.2 L 53.9 44.2 L 53.9 39.8 L 49.0 39.8 L 49.0 44.2 L 47.8 44.2 L 47.8 34.7 \" fill=\"#FF0000\"/>\n",
       "<path class=\"atom-7\" d=\"M 57.2 39.5 Q 57.2 37.2, 58.3 35.9 Q 59.4 34.6, 61.5 34.6 Q 63.6 34.6, 64.8 35.9 Q 65.9 37.2, 65.9 39.5 Q 65.9 41.8, 64.7 43.1 Q 63.6 44.4, 61.5 44.4 Q 59.4 44.4, 58.3 43.1 Q 57.2 41.8, 57.2 39.5 M 61.5 43.3 Q 63.0 43.3, 63.8 42.3 Q 64.5 41.4, 64.5 39.5 Q 64.5 37.6, 63.8 36.6 Q 63.0 35.7, 61.5 35.7 Q 60.1 35.7, 59.3 36.6 Q 58.5 37.6, 58.5 39.5 Q 58.5 41.4, 59.3 42.3 Q 60.1 43.3, 61.5 43.3 \" fill=\"#FF0000\"/>\n",
       "<path class=\"atom-8\" d=\"M 10.0 90.3 L 11.3 90.3 L 11.3 94.4 L 16.2 94.4 L 16.2 90.3 L 17.4 90.3 L 17.4 99.8 L 16.2 99.8 L 16.2 95.4 L 11.3 95.4 L 11.3 99.8 L 10.0 99.8 L 10.0 90.3 \" fill=\"#FF0000\"/>\n",
       "<path class=\"atom-8\" d=\"M 19.4 95.1 Q 19.4 92.8, 20.5 91.5 Q 21.7 90.2, 23.8 90.2 Q 25.9 90.2, 27.0 91.5 Q 28.1 92.8, 28.1 95.1 Q 28.1 97.4, 27.0 98.7 Q 25.9 100.0, 23.8 100.0 Q 21.7 100.0, 20.5 98.7 Q 19.4 97.4, 19.4 95.1 M 23.8 98.9 Q 25.2 98.9, 26.0 97.9 Q 26.8 97.0, 26.8 95.1 Q 26.8 93.2, 26.0 92.3 Q 25.2 91.3, 23.8 91.3 Q 22.3 91.3, 21.5 92.2 Q 20.7 93.2, 20.7 95.1 Q 20.7 97.0, 21.5 97.9 Q 22.3 98.9, 23.8 98.9 \" fill=\"#FF0000\"/>\n",
       "<path class=\"atom-9\" d=\"M 39.3 150.8 L 40.6 150.8 L 40.6 154.9 L 45.4 154.9 L 45.4 150.8 L 46.7 150.8 L 46.7 160.3 L 45.4 160.3 L 45.4 155.9 L 40.6 155.9 L 40.6 160.3 L 39.3 160.3 L 39.3 150.8 \" fill=\"#FF0000\"/>\n",
       "<path class=\"atom-9\" d=\"M 48.7 155.6 Q 48.7 153.3, 49.8 152.0 Q 50.9 150.7, 53.0 150.7 Q 55.2 150.7, 56.3 152.0 Q 57.4 153.3, 57.4 155.6 Q 57.4 157.9, 56.3 159.2 Q 55.1 160.5, 53.0 160.5 Q 50.9 160.5, 49.8 159.2 Q 48.7 157.9, 48.7 155.6 M 53.0 159.4 Q 54.5 159.4, 55.3 158.4 Q 56.1 157.5, 56.1 155.6 Q 56.1 153.7, 55.3 152.7 Q 54.5 151.8, 53.0 151.8 Q 51.6 151.8, 50.8 152.7 Q 50.0 153.7, 50.0 155.6 Q 50.0 157.5, 50.8 158.4 Q 51.6 159.4, 53.0 159.4 \" fill=\"#FF0000\"/>\n",
       "<path class=\"atom-10\" d=\"M 115.7 160.4 Q 115.7 158.2, 116.8 156.9 Q 118.0 155.6, 120.1 155.6 Q 122.2 155.6, 123.3 156.9 Q 124.4 158.2, 124.4 160.4 Q 124.4 162.8, 123.3 164.1 Q 122.2 165.4, 120.1 165.4 Q 118.0 165.4, 116.8 164.1 Q 115.7 162.8, 115.7 160.4 M 120.1 164.3 Q 121.5 164.3, 122.3 163.3 Q 123.1 162.4, 123.1 160.4 Q 123.1 158.6, 122.3 157.6 Q 121.5 156.7, 120.1 156.7 Q 118.6 156.7, 117.8 157.6 Q 117.1 158.6, 117.1 160.4 Q 117.1 162.4, 117.8 163.3 Q 118.6 164.3, 120.1 164.3 \" fill=\"#FF0000\"/>\n",
       "<path class=\"atom-10\" d=\"M 125.9 155.7 L 127.2 155.7 L 127.2 159.8 L 132.1 159.8 L 132.1 155.7 L 133.4 155.7 L 133.4 165.2 L 132.1 165.2 L 132.1 160.8 L 127.2 160.8 L 127.2 165.2 L 125.9 165.2 L 125.9 155.7 \" fill=\"#FF0000\"/>\n",
       "<path class=\"atom-11\" d=\"M 172.3 77.0 Q 172.3 74.8, 173.5 73.5 Q 174.6 72.2, 176.7 72.2 Q 178.8 72.2, 179.9 73.5 Q 181.1 74.8, 181.1 77.0 Q 181.1 79.4, 179.9 80.7 Q 178.8 82.0, 176.7 82.0 Q 174.6 82.0, 173.5 80.7 Q 172.3 79.4, 172.3 77.0 M 176.7 80.9 Q 178.2 80.9, 178.9 79.9 Q 179.7 79.0, 179.7 77.0 Q 179.7 75.2, 178.9 74.2 Q 178.2 73.3, 176.7 73.3 Q 175.3 73.3, 174.5 74.2 Q 173.7 75.2, 173.7 77.0 Q 173.7 79.0, 174.5 79.9 Q 175.3 80.9, 176.7 80.9 \" fill=\"#FF0000\"/>\n",
       "<path class=\"atom-11\" d=\"M 182.6 72.3 L 183.8 72.3 L 183.8 76.4 L 188.7 76.4 L 188.7 72.3 L 190.0 72.3 L 190.0 81.8 L 188.7 81.8 L 188.7 77.4 L 183.8 77.4 L 183.8 81.8 L 182.6 81.8 L 182.6 72.3 \" fill=\"#FF0000\"/>\n",
       "<path class=\"bond-0 atom-0 atom-1\" d=\"M 221.4,127.0 L 246.3,104.5\" style=\"fill:none;fill-rule:evenodd;stroke:#000000;stroke-width:2.0px;stroke-linecap:butt;stroke-linejoin:miter;stroke-opacity:1\"/>\n",
       "<path class=\"bond-1 atom-1 atom-2\" d=\"M 249.1,105.4 L 246.1,91.3\" style=\"fill:none;fill-rule:evenodd;stroke:#000000;stroke-width:2.0px;stroke-linecap:butt;stroke-linejoin:miter;stroke-opacity:1\"/>\n",
       "<path class=\"bond-1 atom-1 atom-2\" d=\"M 246.1,91.3 L 243.1,77.2\" style=\"fill:none;fill-rule:evenodd;stroke:#FF0000;stroke-width:2.0px;stroke-linecap:butt;stroke-linejoin:miter;stroke-opacity:1\"/>\n",
       "<path class=\"bond-1 atom-1 atom-2\" d=\"M 244.2,106.5 L 241.2,92.4\" style=\"fill:none;fill-rule:evenodd;stroke:#000000;stroke-width:2.0px;stroke-linecap:butt;stroke-linejoin:miter;stroke-opacity:1\"/>\n",
       "<path class=\"bond-1 atom-1 atom-2\" d=\"M 241.2,92.4 L 238.2,78.2\" style=\"fill:none;fill-rule:evenodd;stroke:#FF0000;stroke-width:2.0px;stroke-linecap:butt;stroke-linejoin:miter;stroke-opacity:1\"/>\n",
       "<path class=\"bond-2 atom-1 atom-3\" d=\"M 246.3,104.5 L 259.6,108.8\" style=\"fill:none;fill-rule:evenodd;stroke:#000000;stroke-width:2.0px;stroke-linecap:butt;stroke-linejoin:miter;stroke-opacity:1\"/>\n",
       "<path class=\"bond-2 atom-1 atom-3\" d=\"M 259.6,108.8 L 272.8,113.1\" style=\"fill:none;fill-rule:evenodd;stroke:#FF0000;stroke-width:2.0px;stroke-linecap:butt;stroke-linejoin:miter;stroke-opacity:1\"/>\n",
       "<path class=\"bond-3 atom-3 atom-4\" d=\"M 283.8,109.9 L 293.5,101.1\" style=\"fill:none;fill-rule:evenodd;stroke:#FF0000;stroke-width:2.0px;stroke-linecap:butt;stroke-linejoin:miter;stroke-opacity:1\"/>\n",
       "<path class=\"bond-3 atom-3 atom-4\" d=\"M 293.5,101.1 L 303.3,92.3\" style=\"fill:none;fill-rule:evenodd;stroke:#000000;stroke-width:2.0px;stroke-linecap:butt;stroke-linejoin:miter;stroke-opacity:1\"/>\n",
       "<path class=\"bond-4 atom-4 atom-5\" d=\"M 303.3,92.3 L 296.2,59.5\" style=\"fill:none;fill-rule:evenodd;stroke:#000000;stroke-width:2.0px;stroke-linecap:butt;stroke-linejoin:miter;stroke-opacity:1\"/>\n",
       "<path class=\"bond-4 atom-4 atom-5\" d=\"M 307.6,88.4 L 301.8,61.3\" style=\"fill:none;fill-rule:evenodd;stroke:#000000;stroke-width:2.0px;stroke-linecap:butt;stroke-linejoin:miter;stroke-opacity:1\"/>\n",
       "<path class=\"bond-5 atom-5 atom-6\" d=\"M 296.2,59.5 L 321.2,37.0\" style=\"fill:none;fill-rule:evenodd;stroke:#000000;stroke-width:2.0px;stroke-linecap:butt;stroke-linejoin:miter;stroke-opacity:1\"/>\n",
       "<path class=\"bond-6 atom-6 atom-7\" d=\"M 321.2,37.0 L 353.2,47.3\" style=\"fill:none;fill-rule:evenodd;stroke:#000000;stroke-width:2.0px;stroke-linecap:butt;stroke-linejoin:miter;stroke-opacity:1\"/>\n",
       "<path class=\"bond-6 atom-6 atom-7\" d=\"M 322.4,42.7 L 348.8,51.2\" style=\"fill:none;fill-rule:evenodd;stroke:#000000;stroke-width:2.0px;stroke-linecap:butt;stroke-linejoin:miter;stroke-opacity:1\"/>\n",
       "<path class=\"bond-7 atom-7 atom-8\" d=\"M 353.2,47.3 L 360.2,80.2\" style=\"fill:none;fill-rule:evenodd;stroke:#000000;stroke-width:2.0px;stroke-linecap:butt;stroke-linejoin:miter;stroke-opacity:1\"/>\n",
       "<path class=\"bond-8 atom-8 atom-9\" d=\"M 360.2,80.2 L 335.2,102.7\" style=\"fill:none;fill-rule:evenodd;stroke:#000000;stroke-width:2.0px;stroke-linecap:butt;stroke-linejoin:miter;stroke-opacity:1\"/>\n",
       "<path class=\"bond-8 atom-8 atom-9\" d=\"M 354.6,78.4 L 334.0,97.0\" style=\"fill:none;fill-rule:evenodd;stroke:#000000;stroke-width:2.0px;stroke-linecap:butt;stroke-linejoin:miter;stroke-opacity:1\"/>\n",
       "<path class=\"bond-9 atom-9 atom-10\" d=\"M 335.2,102.7 L 342.3,135.6\" style=\"fill:none;fill-rule:evenodd;stroke:#000000;stroke-width:2.0px;stroke-linecap:butt;stroke-linejoin:miter;stroke-opacity:1\"/>\n",
       "<path class=\"bond-10 atom-10 atom-11\" d=\"M 340.1,137.5 L 354.0,142.0\" style=\"fill:none;fill-rule:evenodd;stroke:#000000;stroke-width:2.0px;stroke-linecap:butt;stroke-linejoin:miter;stroke-opacity:1\"/>\n",
       "<path class=\"bond-10 atom-10 atom-11\" d=\"M 354.0,142.0 L 368.0,146.5\" style=\"fill:none;fill-rule:evenodd;stroke:#FF0000;stroke-width:2.0px;stroke-linecap:butt;stroke-linejoin:miter;stroke-opacity:1\"/>\n",
       "<path class=\"bond-10 atom-10 atom-11\" d=\"M 341.7,132.7 L 355.6,137.2\" style=\"fill:none;fill-rule:evenodd;stroke:#000000;stroke-width:2.0px;stroke-linecap:butt;stroke-linejoin:miter;stroke-opacity:1\"/>\n",
       "<path class=\"bond-10 atom-10 atom-11\" d=\"M 355.6,137.2 L 369.5,141.7\" style=\"fill:none;fill-rule:evenodd;stroke:#FF0000;stroke-width:2.0px;stroke-linecap:butt;stroke-linejoin:miter;stroke-opacity:1\"/>\n",
       "<path class=\"bond-11 atom-10 atom-12\" d=\"M 342.3,135.6 L 332.5,144.3\" style=\"fill:none;fill-rule:evenodd;stroke:#000000;stroke-width:2.0px;stroke-linecap:butt;stroke-linejoin:miter;stroke-opacity:1\"/>\n",
       "<path class=\"bond-11 atom-10 atom-12\" d=\"M 332.5,144.3 L 322.8,153.1\" style=\"fill:none;fill-rule:evenodd;stroke:#FF0000;stroke-width:2.0px;stroke-linecap:butt;stroke-linejoin:miter;stroke-opacity:1\"/>\n",
       "<path class=\"bond-12 atom-9 atom-4\" d=\"M 335.2,102.7 L 303.3,92.3\" style=\"fill:none;fill-rule:evenodd;stroke:#000000;stroke-width:2.0px;stroke-linecap:butt;stroke-linejoin:miter;stroke-opacity:1\"/>\n",
       "<path d=\"M 245.1,105.6 L 246.3,104.5 L 247.0,104.7\" style=\"fill:none;stroke:#000000;stroke-width:2.0px;stroke-linecap:butt;stroke-linejoin:miter;stroke-opacity:1;\"/>\n",
       "<path d=\"M 296.6,61.1 L 296.2,59.5 L 297.5,58.4\" style=\"fill:none;stroke:#000000;stroke-width:2.0px;stroke-linecap:butt;stroke-linejoin:miter;stroke-opacity:1;\"/>\n",
       "<path d=\"M 319.9,38.1 L 321.2,37.0 L 322.8,37.5\" style=\"fill:none;stroke:#000000;stroke-width:2.0px;stroke-linecap:butt;stroke-linejoin:miter;stroke-opacity:1;\"/>\n",
       "<path d=\"M 351.6,46.8 L 353.2,47.3 L 353.5,49.0\" style=\"fill:none;stroke:#000000;stroke-width:2.0px;stroke-linecap:butt;stroke-linejoin:miter;stroke-opacity:1;\"/>\n",
       "<path d=\"M 359.8,78.5 L 360.2,80.2 L 358.9,81.3\" style=\"fill:none;stroke:#000000;stroke-width:2.0px;stroke-linecap:butt;stroke-linejoin:miter;stroke-opacity:1;\"/>\n",
       "<path d=\"M 341.9,133.9 L 342.3,135.6 L 341.8,136.0\" style=\"fill:none;stroke:#000000;stroke-width:2.0px;stroke-linecap:butt;stroke-linejoin:miter;stroke-opacity:1;\"/>\n",
       "<path class=\"atom-2\" d=\"M 235.0 71.7 Q 235.0 69.4, 236.1 68.1 Q 237.2 66.8, 239.3 66.8 Q 241.4 66.8, 242.6 68.1 Q 243.7 69.4, 243.7 71.7 Q 243.7 74.0, 242.5 75.3 Q 241.4 76.6, 239.3 76.6 Q 237.2 76.6, 236.1 75.3 Q 235.0 74.0, 235.0 71.7 M 239.3 75.5 Q 240.8 75.5, 241.6 74.6 Q 242.3 73.6, 242.3 71.7 Q 242.3 69.8, 241.6 68.9 Q 240.8 67.9, 239.3 67.9 Q 237.9 67.9, 237.1 68.9 Q 236.3 69.8, 236.3 71.7 Q 236.3 73.6, 237.1 74.6 Q 237.9 75.5, 239.3 75.5 \" fill=\"#FF0000\"/>\n",
       "<path class=\"atom-3\" d=\"M 273.9 114.9 Q 273.9 112.6, 275.1 111.3 Q 276.2 110.0, 278.3 110.0 Q 280.4 110.0, 281.6 111.3 Q 282.7 112.6, 282.7 114.9 Q 282.7 117.2, 281.5 118.5 Q 280.4 119.8, 278.3 119.8 Q 276.2 119.8, 275.1 118.5 Q 273.9 117.2, 273.9 114.9 M 278.3 118.7 Q 279.8 118.7, 280.5 117.8 Q 281.3 116.8, 281.3 114.9 Q 281.3 113.0, 280.5 112.1 Q 279.8 111.1, 278.3 111.1 Q 276.9 111.1, 276.1 112.1 Q 275.3 113.0, 275.3 114.9 Q 275.3 116.8, 276.1 117.8 Q 276.9 118.7, 278.3 118.7 \" fill=\"#FF0000\"/>\n",
       "<path class=\"atom-11\" d=\"M 369.9 145.9 Q 369.9 143.6, 371.0 142.4 Q 372.1 141.1, 374.2 141.1 Q 376.3 141.1, 377.5 142.4 Q 378.6 143.6, 378.6 145.9 Q 378.6 148.2, 377.5 149.6 Q 376.3 150.9, 374.2 150.9 Q 372.1 150.9, 371.0 149.6 Q 369.9 148.3, 369.9 145.9 M 374.2 149.8 Q 375.7 149.8, 376.5 148.8 Q 377.3 147.8, 377.3 145.9 Q 377.3 144.1, 376.5 143.1 Q 375.7 142.2, 374.2 142.2 Q 372.8 142.2, 372.0 143.1 Q 371.2 144.0, 371.2 145.9 Q 371.2 147.9, 372.0 148.8 Q 372.8 149.8, 374.2 149.8 \" fill=\"#FF0000\"/>\n",
       "<path class=\"atom-12\" d=\"M 303.5 153.4 L 304.8 153.4 L 304.8 157.4 L 309.7 157.4 L 309.7 153.4 L 311.0 153.4 L 311.0 162.9 L 309.7 162.9 L 309.7 158.5 L 304.8 158.5 L 304.8 162.9 L 303.5 162.9 L 303.5 153.4 \" fill=\"#FF0000\"/>\n",
       "<path class=\"atom-12\" d=\"M 312.9 158.1 Q 312.9 155.8, 314.1 154.5 Q 315.2 153.3, 317.3 153.3 Q 319.4 153.3, 320.6 154.5 Q 321.7 155.8, 321.7 158.1 Q 321.7 160.4, 320.5 161.7 Q 319.4 163.0, 317.3 163.0 Q 315.2 163.0, 314.1 161.7 Q 312.9 160.4, 312.9 158.1 M 317.3 162.0 Q 318.8 162.0, 319.5 161.0 Q 320.3 160.0, 320.3 158.1 Q 320.3 156.2, 319.5 155.3 Q 318.8 154.3, 317.3 154.3 Q 315.9 154.3, 315.1 155.3 Q 314.3 156.2, 314.3 158.1 Q 314.3 160.0, 315.1 161.0 Q 315.9 162.0, 317.3 162.0 \" fill=\"#FF0000\"/>\n",
       "</svg>"
      ],
      "text/plain": [
       "<IPython.core.display.SVG object>"
      ]
     },
     "execution_count": 41,
     "metadata": {},
     "output_type": "execute_result"
    }
   ],
   "source": [
    "from rdkit import Chem\n",
    "import pubchempy as pcp\n",
    "from pubchempy import get_compounds\n",
    "from rdkit.Chem import Draw\n",
    "import pandas as pd\n",
    "\n",
    "from rdkit.Chem.Draw import IPythonConsole\n",
    "IPythonConsole.ipython_useSVG=True\n",
    "\n",
    "def get_test(compound):\n",
    "    results = pcp.get_compounds(compound, 'name')\n",
    "    for compound in results:\n",
    "        smiles= compound.isomeric_smiles\n",
    "        mol=Chem.MolFromSmiles(smiles)\n",
    "        return mol\n",
    "        \n",
    "mol_1 = \"glucose\"\n",
    "mol_2 = \"aspirin\"\n",
    "\n",
    "ms = [get_test(mol_1), get_test(mol_2)]\n",
    "Draw.MolsToGridImage(ms)"
   ]
  },
  {
   "cell_type": "code",
   "execution_count": 9,
   "id": "75ae35ed-b9c7-4534-aaae-b504903de1b2",
   "metadata": {},
   "outputs": [
    {
     "name": "stdout",
     "output_type": "stream",
     "text": [
      "[Compound(5793)]\n",
      "<class 'list'>\n"
     ]
    },
    {
     "data": {
      "text/plain": [
       "'C([C@@H]1[C@H]([C@@H]([C@H](C(O1)O)O)O)O)O'"
      ]
     },
     "execution_count": 9,
     "metadata": {},
     "output_type": "execute_result"
    }
   ],
   "source": [
    "def get_test(compound):\n",
    "    results = pcp.get_compounds(compound, 'name')\n",
    "    print (results)\n",
    "    print (type(results))\n",
    "    for compound in results:\n",
    "        return (compound.isomeric_smiles)\n",
    "        molecule=Chem.MolFromSmiles(smiles)\n",
    "\n",
    "get_test('glucose')"
   ]
  },
  {
   "cell_type": "code",
   "execution_count": null,
   "id": "83883846-e2f1-42f0-8059-4d85df7f0723",
   "metadata": {},
   "outputs": [],
   "source": []
  }
 ],
 "metadata": {
  "kernelspec": {
   "display_name": "Python 3 (ipykernel)",
   "language": "python",
   "name": "python3"
  },
  "language_info": {
   "codemirror_mode": {
    "name": "ipython",
    "version": 3
   },
   "file_extension": ".py",
   "mimetype": "text/x-python",
   "name": "python",
   "nbconvert_exporter": "python",
   "pygments_lexer": "ipython3",
   "version": "3.10.13"
  }
 },
 "nbformat": 4,
 "nbformat_minor": 5
}
