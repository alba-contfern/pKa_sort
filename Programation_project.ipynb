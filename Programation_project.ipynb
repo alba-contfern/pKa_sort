{
 "cells": [
  {
   "cell_type": "code",
   "execution_count": 2,
   "metadata": {},
   "outputs": [],
   "source": [
    "import requests\n",
    "from bs4 import BeautifulSoup\n",
    "import pubchempy as pcp\n",
    "from rdkit import Chem\n",
    "from rdkit.Chem.Draw import IPythonConsole"
   ]
  },
  {
   "cell_type": "code",
   "execution_count": 4,
   "metadata": {},
   "outputs": [
    {
     "name": "stdout",
     "output_type": "stream",
     "text": [
      "Invalid syntax, please enter an integer number\n",
      "Invalid syntax, please enter an integer number\n",
      "Invalid syntax, please enter an integer number\n",
      "Invalid syntax, please enter an integer number\n"
     ]
    }
   ],
   "source": [
    "#get the number of molecule in int form\n",
    "while True:\n",
    "    number_molecule = input(\"How many molecules: \")\n",
    "    try:\n",
    "        number_molecule = int(number_molecule)\n",
    "        break  \n",
    "    except ValueError:\n",
    "        print(\"Invalid syntax, please enter an integer number\")\n"
   ]
  },
  {
   "cell_type": "code",
   "execution_count": 28,
   "metadata": {},
   "outputs": [
    {
     "name": "stdout",
     "output_type": "stream",
     "text": [
      "['acetic acid', 'aspirin']\n"
     ]
    }
   ],
   "source": [
    "\n",
    "#get the molecule name and put it in a list\n",
    "list_of_molecule = []\n",
    "number_molecule=2\n",
    "\n",
    "for i in range(number_molecule):\n",
    "    while True:\n",
    "        name_i=input(f\"Molecule name {i+1}:\")\n",
    "        try:\n",
    "            res=pcp.get_compounds(name_i, \"name\")\n",
    "            mol = res[0].isomeric_smiles\n",
    "            if mol is None:\n",
    "                raise ValueError(\"Unable to generate the molecular formula.\")\n",
    "            list_of_molecule.append((name_i))\n",
    "            break\n",
    "        except ValueError:\n",
    "            print(\"Value error, please try again with the correct name\")\n",
    "print(list_of_molecule)\n"
   ]
  },
  {
   "cell_type": "code",
   "execution_count": 8,
   "metadata": {},
   "outputs": [
    {
     "name": "stdout",
     "output_type": "stream",
     "text": [
      "https://pubchem.ncbi.nlm.nih.gov/compound/54670067/property/MolecularFormula/JSON\n"
     ]
    }
   ],
   "source": [
    "#to get the pubchem page of a molecule\n",
    "def get_url(molecule_name):\n",
    "    cid = pcp.get_cids(molecule_name)\n",
    "    url = f\"https://pubchem.ncbi.nlm.nih.gov/compound/{cid[0]}/property/MolecularFormula/JSON\"\n",
    "    return(url)\n",
    "\n",
    "print(get_url(\"ascorbic acid\"))\n",
    "\n",
    "\n"
   ]
  },
  {
   "cell_type": "code",
   "execution_count": 19,
   "metadata": {},
   "outputs": [
    {
     "name": "stdout",
     "output_type": "stream",
     "text": [
      "<!DOCTYPE html>\n",
      "\n",
      "<html lang=\"en\">\n",
      "<head>\n",
      "<meta charset=\"utf-8\"/>\n",
      "<meta content=\"index,follow,noarchive\" name=\"robots\"/>\n",
      "<title>Aspirin | C9H8O4 | CID 2244 - PubChem</title>\n",
      "<script type=\"text/javascript\">\n",
      "      window.ncbi_startTime = new Date ()\n",
      "      \n",
      "    </script>\n",
      "<script type=\"application/ld+json\">\n",
      "      {\n",
      "          \"@context\": \"https://schema.org\",\n",
      "          \"@type\": \"Organization\",\n",
      "          \"name\": \"PubChem\",\n",
      "          \"url\": \"https://pubchem.ncbi.nlm.nih.gov\",\n",
      "          \"logo\": \"https://pubchem.ncbi.nlm.nih.gov/pcfe/logo/PubChem_logo.png\",\n",
      "          \"foundingDate\": \"2004\"\n",
      "      }\n",
      "      \n",
      "    </script>\n",
      "<link href=\"/pcfe/favicon/apple-touch-icon.png\" rel=\"apple-touch-icon\" sizes=\"180x180\"/>\n",
      "<link href=\"/pcfe/favicon/favicon-32x32.png\" rel=\"icon\" sizes=\"32x32\" type=\"image/png\"/>\n",
      "<link href=\"/pcfe/favicon/favicon-16x16.png\" rel=\"icon\" sizes=\"16x16\" type=\"image/png\"/>\n",
      "<link href=\"/pcfe/favicon/favicon.ico\" rel=\"shortcut icon\"/>\n",
      "<link href=\"https://www.ncbi.nlm.nih.gov\" rel=\"preconnect\"/>\n",
      "<link crossorigin=\"\" href=\"https://www.ncbi.nlm.nih.gov\" rel=\"preconnect\"/>\n",
      "<link href=\"https://pubchem.ncbi.nlm.nih.gov/pcfe/libs/react/react.production.min.js\" rel=\"modulepreload\"/>\n",
      "<link href=\"https://pubchem.ncbi.nlm.nih.gov/pcfe/libs/react/react-dom.production.min.js\" rel=\"modulepreload\"/>\n",
      "<meta content=\"width=device-width, initial-scale=1, minimum-scale=1\" name=\"viewport\"/>\n",
      "<meta content=\"dark light\" name=\"color-scheme\"/>\n",
      "<meta content=\"PubChem\" name=\"application-name\"/>\n",
      "<meta content=\"white\" media=\"(prefers-color-scheme: light)\" name=\"theme-color\"/>\n",
      "<meta content=\"black\" media=\"(prefers-color-scheme: dark)\" name=\"theme-color\"/>\n",
      "<meta content=\"Aspirin\" property=\"og:title\"/>\n",
      "<meta content=\"https://pubchem.ncbi.nlm.nih.gov/compound/2244\" property=\"og:url\"/>\n",
      "<meta content=\"https://pubchem.ncbi.nlm.nih.gov/image/imgsrv.fcgi?cid=2244&amp;t=l\" property=\"og:image\"/>\n",
      "<meta content=\"https://pubchem.ncbi.nlm.nih.gov/image/imgsrv.fcgi?cid=2244&amp;t=l\" property=\"og:image:secure_url\"/>\n",
      "<meta content=\"website\" property=\"og:type\"/>\n",
      "<meta content=\"image/png\" property=\"og:image:type\"/>\n",
      "<meta content=\"300\" property=\"og:image:width\"/>\n",
      "<meta content=\"300\" property=\"og:image:height\"/>\n",
      "<meta content=\"@pubchem\" property=\"twitter:site\"/>\n",
      "<meta content=\"PubChem\" name=\"author\"/>\n",
      "<meta content=\"pubchem\" name=\"ncbi_db\"/>\n",
      "<meta content=\"true\" name=\"ncbi_pinger_ga_track\"/>\n",
      "<meta content=\"true\" name=\"ncbi_pinger_track_stat\"/>\n",
      "<meta content=\"false\" name=\"ncbi_pinger_section_duration\"/>\n",
      "<meta content=\"pc-rest-compounds\" name=\"ncbi_app\"/>\n",
      "<meta content=\"summary\" name=\"ncbi_pdid\"/>\n",
      "<meta content=\"90C5A0AC6269F0A10000000000000001.m_1\" name=\"ncbi_phid\"/>\n",
      "<meta content=\"2244\" name=\"ncbi_pubchem_cid\"/>\n",
      "<meta content=\"compound-summary\" name=\"pubchem_tracking_category\"/>\n",
      "<meta content=\"@PUG_VIEW@\" name=\"pubchem_data_service\"/>\n",
      "<meta content=\"Summary\" name=\"pubchem_page_type\"/>\n",
      "<meta content=\"CID\" name=\"pubchem_uid_type\"/>\n",
      "<meta content=\"PubChem\" name=\"pubchem_uid_type_prefix\"/>\n",
      "<meta content=\"compound\" name=\"pubchem_uid_name\"/>\n",
      "<meta content=\"2244\" name=\"pubchem_uid_value\"/>\n",
      "<meta content=\"true\" name=\"pubchem_source_chooser\"/>\n",
      "<meta content=\"Aspirin | C9H8O4 | CID 2244 - structure, chemical names, physical and chemical properties, classification, patents, literature, biological activities, safety/hazards/toxicity information, supplier lists, and more.\" name=\"description\"/><link href=\"https://pubchem.ncbi.nlm.nih.gov/compound/Aspirin\" rel=\"canonical\">\n",
      "<link href=\"https://rdf.ncbi.nlm.nih.gov/pubchem/compound/CID2244\" rel=\"alternate\" title=\"CID:2244\" type=\"application/rdf+xml\"/>\n",
      "<script type=\"module\">const storageAvailable=function(){try{return window.localStorage.test=0,window.localStorage.removeItem(\"test\"),!0}catch(e){return!1}}();function setMode(){\"dark\"!==localStorage.mode&&(\"mode\"in localStorage&&\"system\"!==localStorage.mode||!window.matchMedia(\"(prefers-color-scheme: dark)\").matches)?document.documentElement.classList.remove(\"dark\"):document.documentElement.classList.add(\"dark\")}!String(location.hash).match(/mode=light/i)&&storageAvailable&&(window.addEventListener(\"storage\",(()=>{setMode()})),setMode());</script>\n",
      "<link href=\"/pcfe/libs/styles/pubchem.min.css\" rel=\"stylesheet\" type=\"text/css\"/>\n",
      "</link></head>\n",
      "<body>\n",
      "<noscript>\n",
      "<div class=\"main-width pt-8 pb-8\">\n",
      "<div><img alt=\"PubChem logo\" height=\"88\" src=\"https://pubchem.ncbi.nlm.nih.gov/pcfe/logo/PubChem_logo.svg\" width=\"300\"/></div>\n",
      "<div class=\"bg-spill pt-4\">\n",
      "<h1 class=\"text-red-500 font-bold text-2xl mb-2\">JavaScript is required...</h1>\n",
      "<p>Please enable Javascript in order to use PubChem website.</p>\n",
      "</div>\n",
      "</div>\n",
      "</noscript>\n",
      "<div class=\"theme-compound\" id=\"root\"></div>\n",
      "<div class=\"theme-compound\" id=\"root-modal\"></div>\n",
      "<script async=\"\" src=\"https://www.ncbi.nlm.nih.gov/core/pinger/pinger.js\" type=\"text/javascript\"></script>\n",
      "<script nomodule=\"\">document.querySelector ('#root').innerHTML = '<div class=\"main-width pt-8 pb-8\"><div><img src=\"https://pubchem.ncbi.nlm.nih.gov/pcfe/logo/PubChem_logo.png\" alt=\"PubChem logo\" width=\"200\" height=\"60\" /></div><div class=\"bg-spill pt-4\"><h1 class=\"text-red-500 font-bold text-2xl mb-2\">Apologies, we no longer support your browser...</h1><p>Please use a modern browser, such as <a href=\"https://www.google.com/chrome\" class=\"underline\" target=\"_blank\" rel=\"noreferrer noopener\">Chrome</a>, <a href=\"https://www.mozilla.org/firefox\" class=\"underline\" target=\"_blank\" rel=\"noreferrer noopener\">Firefox</a>, or <a href=\"https://www.microsoft.com/edge\" class=\"underline\" target=\"_blank\" rel=\"noreferrer noopener\">Edge</a> to access PubChem website.</p></div><div>';</script>\n",
      "<script src=\"https://pubchem.ncbi.nlm.nih.gov/pcfe/libs/react/react.production.min.js\" type=\"module\"></script>\n",
      "<script src=\"https://pubchem.ncbi.nlm.nih.gov/pcfe/libs/react/react-dom.production.min.js\" type=\"module\"></script>\n",
      "<script src=\"/pcfe/summary/summary.min.js\" type=\"module\"></script>\n",
      "</body>\n",
      "</html>\n",
      "None\n"
     ]
    }
   ],
   "source": [
    "#still working on that\n",
    "URL = \"https://pubchem.ncbi.nlm.nih.gov/compound/2244\"\n",
    "res = requests.get(URL)\n",
    "if res.status_code == 200:\n",
    "    pass\n",
    "else:\n",
    "    print(\"error\")\n",
    "soup = BeautifulSoup(res.text, 'html.parser')\n",
    "pka_value = soup.find(\"dt\", children=\"Acidic pKa\")\n",
    "print(pka_value)"
   ]
  },
  {
   "cell_type": "code",
   "execution_count": null,
   "metadata": {},
   "outputs": [],
   "source": []
  }
 ],
 "metadata": {
  "kernelspec": {
   "display_name": "ppchem",
   "language": "python",
   "name": "python3"
  },
  "language_info": {
   "codemirror_mode": {
    "name": "ipython",
    "version": 3
   },
   "file_extension": ".py",
   "mimetype": "text/x-python",
   "name": "python",
   "nbconvert_exporter": "python",
   "pygments_lexer": "ipython3",
   "version": "3.10.13"
  }
 },
 "nbformat": 4,
 "nbformat_minor": 2
}
